{
 "cells": [
  {
   "cell_type": "code",
   "execution_count": 11,
   "id": "586addba",
   "metadata": {},
   "outputs": [],
   "source": [
    "import ast\n",
    "import astpretty"
   ]
  },
  {
   "cell_type": "code",
   "execution_count": 23,
   "id": "589c3572",
   "metadata": {},
   "outputs": [],
   "source": [
    "class Visitor(ast.NodeVisitor):\n",
    "    \n",
    "    # visit은 기본으로 call됨. \n",
    "#     def visit(self, node: ast.AST):\n",
    "#         print(node)\n",
    "#         self.generic_visit(node)\n",
    "    \n",
    "    def visit_For(self, node: ast.AST):\n",
    "        print(\"visiting all 'for' statements\")\n",
    "        self.generic_visit(node)"
   ]
  },
  {
   "cell_type": "code",
   "execution_count": 24,
   "id": "a4a07cf7",
   "metadata": {},
   "outputs": [],
   "source": [
    "node = ast.parse(open(\"flake8.py\").read())"
   ]
  },
  {
   "cell_type": "code",
   "execution_count": 27,
   "id": "54f65d15",
   "metadata": {},
   "outputs": [
    {
     "name": "stdout",
     "output_type": "stream",
     "text": [
      "<ast.Module object at 0x00000163402DFD00>\n",
      "<ast.FunctionDef object at 0x00000163402DFCD0>\n",
      "<ast.arguments object at 0x00000163402DF850>\n",
      "<ast.arg object at 0x00000163402DFCA0>\n",
      "<ast.For object at 0x00000163402DF940>\n",
      "<ast.Name object at 0x00000163402DF820>\n",
      "<ast.Store object at 0x000001633A0CA100>\n",
      "<ast.Call object at 0x00000163402DF2B0>\n",
      "<ast.Name object at 0x00000163402DFEB0>\n",
      "<ast.Load object at 0x000001633A0CA0A0>\n",
      "<ast.Constant object at 0x000001633FCDC550>\n",
      "<ast.Name object at 0x0000016340C905B0>\n",
      "<ast.Load object at 0x000001633A0CA0A0>\n",
      "<ast.Expr object at 0x0000016340C90460>\n",
      "<ast.Call object at 0x0000016340C90520>\n",
      "<ast.Name object at 0x0000016340C90190>\n",
      "<ast.Load object at 0x000001633A0CA0A0>\n",
      "<ast.BinOp object at 0x0000016340C903D0>\n",
      "<ast.Name object at 0x0000016340C905E0>\n",
      "<ast.Load object at 0x000001633A0CA0A0>\n",
      "<ast.Mult object at 0x000001633A0CA3A0>\n",
      "<ast.Constant object at 0x0000016340C90430>\n",
      "<ast.For object at 0x0000016340C904F0>\n",
      "<ast.Name object at 0x0000016340C90940>\n",
      "<ast.Store object at 0x000001633A0CA100>\n",
      "<ast.Call object at 0x0000016340C90850>\n",
      "<ast.Name object at 0x0000016340C90C40>\n",
      "<ast.Load object at 0x000001633A0CA0A0>\n",
      "<ast.Name object at 0x0000016340C908E0>\n",
      "<ast.Load object at 0x000001633A0CA0A0>\n",
      "<ast.Constant object at 0x0000016340C90EB0>\n",
      "<ast.UnaryOp object at 0x0000016340C90F40>\n",
      "<ast.USub object at 0x000001633A0CA940>\n",
      "<ast.Constant object at 0x0000016340C90FD0>\n",
      "<ast.Expr object at 0x0000016340C90F70>\n",
      "<ast.Call object at 0x0000016340C908B0>\n",
      "<ast.Name object at 0x0000016340C904C0>\n",
      "<ast.Load object at 0x000001633A0CA0A0>\n",
      "<ast.BinOp object at 0x0000016340C90250>\n",
      "<ast.Name object at 0x0000016340C90340>\n",
      "<ast.Load object at 0x000001633A0CA0A0>\n",
      "<ast.Mult object at 0x000001633A0CA3A0>\n",
      "<ast.Constant object at 0x0000016340C90310>\n",
      "<ast.ImportFrom object at 0x0000016340C902E0>\n",
      "<ast.alias object at 0x0000016340C90B20>\n",
      "<ast.Expr object at 0x0000016340C90BB0>\n",
      "<ast.Call object at 0x0000016340C90C10>\n",
      "<ast.Name object at 0x0000016340C90A00>\n",
      "<ast.Load object at 0x000001633A0CA0A0>\n",
      "<ast.Constant object at 0x0000016340C90AC0>\n"
     ]
    }
   ],
   "source": [
    "Visitor().visit(node)"
   ]
  },
  {
   "cell_type": "code",
   "execution_count": null,
   "id": "99bc746b",
   "metadata": {},
   "outputs": [],
   "source": []
  }
 ],
 "metadata": {
  "kernelspec": {
   "display_name": "Python 3 (ipykernel)",
   "language": "python",
   "name": "python3"
  },
  "language_info": {
   "codemirror_mode": {
    "name": "ipython",
    "version": 3
   },
   "file_extension": ".py",
   "mimetype": "text/x-python",
   "name": "python",
   "nbconvert_exporter": "python",
   "pygments_lexer": "ipython3",
   "version": "3.9.12"
  }
 },
 "nbformat": 4,
 "nbformat_minor": 5
}
