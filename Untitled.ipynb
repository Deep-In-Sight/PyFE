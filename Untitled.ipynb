{
 "cells": [
  {
   "cell_type": "code",
   "execution_count": 1,
   "id": "93803f5a-7313-477b-bb16-3e8d2c289705",
   "metadata": {},
   "outputs": [],
   "source": [
    "from sly import Lexer, Parser\n",
    "import sys\n",
    "\n",
    "class MathLexer(Lexer):\n",
    "  tokens = { PLUS, MINUS, TIMES, DIVIDE, LPAREN, RPAREN, NUM, ID }\n",
    "  ignore = \" \\t\\r\\n\"\n",
    "  PLUS = r\"\\+\"\n",
    "  MINUS = r\"-\"\n",
    "  TIMES = r\"\\*\"\n",
    "  DIVIDE = r\"/\"\n",
    "  LPAREN = r\"\\(\"\n",
    "  RPAREN = r\"\\)\"\n",
    "  NUM = r\"-?[0-9]+(\\.[0-9]*)?\"\n",
    "  ID = r\"[a-zA-Z_][a-zA-Z0-9_]*\"\n",
    "\n",
    "class MathParser(Parser):\n",
    "  tokens = MathLexer.tokens\n",
    "\n",
    "  def __init__(self):\n",
    "    self.vars = {}\n",
    "\n",
    "  @_(\"expr PLUS term\")\n",
    "  def expr(self, p):\n",
    "    return p.expr + p.term\n",
    "\n",
    "  @_(\"expr MINUS term\")\n",
    "  def expr(self, p):\n",
    "    return p.expr - p.term\n",
    "\n",
    "  @_(\"term\")\n",
    "  def expr(self, p):\n",
    "    return p.term\n",
    "\n",
    "  @_(\"term TIMES factor\")\n",
    "  def term(self, p):\n",
    "    return p.term * p.factor\n",
    "\n",
    "  @_(\"term DIVIDE factor\")\n",
    "  def term(self, p):\n",
    "    return p.term / p.factor\n",
    "\n",
    "  @_(\"factor\")\n",
    "  def term(self, p):\n",
    "    return p.factor\n",
    "\n",
    "  @_(\"LPAREN expr RPAREN\")\n",
    "  def factor(self, p):\n",
    "    return p.expr\n",
    "\n",
    "  @_(\"NUM\")\n",
    "  def factor(self, p):\n",
    "    return float(p.NUM)\n",
    "\n",
    "  @_(\"ID\")\n",
    "  def factor(self, p):\n",
    "    return self.getVar(p.ID)\n",
    "\n",
    "  def getVar(self, name):\n",
    "    if name not in self.vars:\n",
    "      self.vars[name] = float(input(f\"Enter value for {name}: \"))\n",
    "    return self.vars[name]"
   ]
  },
  {
   "cell_type": "code",
   "execution_count": 3,
   "id": "24052079-2537-46f4-afbf-343f7dc230e9",
   "metadata": {},
   "outputs": [
    {
     "ename": "LexError",
     "evalue": "Illegal character '=' at index 2",
     "output_type": "error",
     "traceback": [
      "\u001b[0;31m---------------------------------------------------------------------------\u001b[0m",
      "\u001b[0;31mLexError\u001b[0m                                  Traceback (most recent call last)",
      "Input \u001b[0;32mIn [3]\u001b[0m, in \u001b[0;36m<cell line: 2>\u001b[0;34m()\u001b[0m\n\u001b[1;32m      4\u001b[0m lexer \u001b[38;5;241m=\u001b[39m MathLexer()\n\u001b[1;32m      5\u001b[0m parser \u001b[38;5;241m=\u001b[39m MathParser()\n\u001b[0;32m----> 6\u001b[0m result \u001b[38;5;241m=\u001b[39m \u001b[43mparser\u001b[49m\u001b[38;5;241;43m.\u001b[39;49m\u001b[43mparse\u001b[49m\u001b[43m(\u001b[49m\u001b[43mlexer\u001b[49m\u001b[38;5;241;43m.\u001b[39;49m\u001b[43mtokenize\u001b[49m\u001b[43m(\u001b[49m\u001b[43mtext\u001b[49m\u001b[43m)\u001b[49m\u001b[43m)\u001b[49m\n\u001b[1;32m      7\u001b[0m \u001b[38;5;28mprint\u001b[39m(result)\n",
      "File \u001b[0;32m~/anaconda3/envs/fhe/lib/python3.10/site-packages/sly/yacc.py:2043\u001b[0m, in \u001b[0;36mParser.parse\u001b[0;34m(self, tokens)\u001b[0m\n\u001b[1;32m   2041\u001b[0m \u001b[38;5;28;01mif\u001b[39;00m \u001b[38;5;129;01mnot\u001b[39;00m lookahead:\n\u001b[1;32m   2042\u001b[0m     \u001b[38;5;28;01mif\u001b[39;00m \u001b[38;5;129;01mnot\u001b[39;00m lookaheadstack:\n\u001b[0;32m-> 2043\u001b[0m         lookahead \u001b[38;5;241m=\u001b[39m \u001b[38;5;28;43mnext\u001b[39;49m\u001b[43m(\u001b[49m\u001b[43mtokens\u001b[49m\u001b[43m,\u001b[49m\u001b[43m \u001b[49m\u001b[38;5;28;43;01mNone\u001b[39;49;00m\u001b[43m)\u001b[49m  \u001b[38;5;66;03m# Get the next token\u001b[39;00m\n\u001b[1;32m   2044\u001b[0m     \u001b[38;5;28;01melse\u001b[39;00m:\n\u001b[1;32m   2045\u001b[0m         lookahead \u001b[38;5;241m=\u001b[39m lookaheadstack\u001b[38;5;241m.\u001b[39mpop()\n",
      "File \u001b[0;32m~/anaconda3/envs/fhe/lib/python3.10/site-packages/sly/lex.py:443\u001b[0m, in \u001b[0;36mLexer.tokenize\u001b[0;34m(self, text, lineno, index)\u001b[0m\n\u001b[1;32m    441\u001b[0m tok\u001b[38;5;241m.\u001b[39mtype \u001b[38;5;241m=\u001b[39m \u001b[38;5;124m'\u001b[39m\u001b[38;5;124mERROR\u001b[39m\u001b[38;5;124m'\u001b[39m\n\u001b[1;32m    442\u001b[0m tok\u001b[38;5;241m.\u001b[39mvalue \u001b[38;5;241m=\u001b[39m text[index:]\n\u001b[0;32m--> 443\u001b[0m tok \u001b[38;5;241m=\u001b[39m \u001b[38;5;28;43mself\u001b[39;49m\u001b[38;5;241;43m.\u001b[39;49m\u001b[43merror\u001b[49m\u001b[43m(\u001b[49m\u001b[43mtok\u001b[49m\u001b[43m)\u001b[49m\n\u001b[1;32m    444\u001b[0m \u001b[38;5;28;01mif\u001b[39;00m tok \u001b[38;5;129;01mis\u001b[39;00m \u001b[38;5;129;01mnot\u001b[39;00m \u001b[38;5;28;01mNone\u001b[39;00m:\n\u001b[1;32m    445\u001b[0m     \u001b[38;5;28;01myield\u001b[39;00m tok\n",
      "File \u001b[0;32m~/anaconda3/envs/fhe/lib/python3.10/site-packages/sly/lex.py:458\u001b[0m, in \u001b[0;36mLexer.error\u001b[0;34m(self, t)\u001b[0m\n\u001b[1;32m    457\u001b[0m \u001b[38;5;28;01mdef\u001b[39;00m \u001b[38;5;21merror\u001b[39m(\u001b[38;5;28mself\u001b[39m, t):\n\u001b[0;32m--> 458\u001b[0m     \u001b[38;5;28;01mraise\u001b[39;00m LexError(\u001b[38;5;124mf\u001b[39m\u001b[38;5;124m'\u001b[39m\u001b[38;5;124mIllegal character \u001b[39m\u001b[38;5;132;01m{\u001b[39;00mt\u001b[38;5;241m.\u001b[39mvalue[\u001b[38;5;241m0\u001b[39m]\u001b[38;5;132;01m!r}\u001b[39;00m\u001b[38;5;124m at index \u001b[39m\u001b[38;5;132;01m{\u001b[39;00m\u001b[38;5;28mself\u001b[39m\u001b[38;5;241m.\u001b[39mindex\u001b[38;5;132;01m}\u001b[39;00m\u001b[38;5;124m'\u001b[39m, t\u001b[38;5;241m.\u001b[39mvalue, \u001b[38;5;28mself\u001b[39m\u001b[38;5;241m.\u001b[39mindex)\n",
      "\u001b[0;31mLexError\u001b[0m: Illegal character '=' at index 2"
     ]
    }
   ],
   "source": [
    "path = './script.py'\n",
    "with open(path) as f:\n",
    "    text = f.read()\n",
    "    lexer = MathLexer()\n",
    "    parser = MathParser()\n",
    "    result = parser.parse(lexer.tokenize(text))\n",
    "    print(result)"
   ]
  },
  {
   "cell_type": "code",
   "execution_count": 6,
   "id": "0d1d0533-d4c6-43d8-bebd-570a9ceeda98",
   "metadata": {},
   "outputs": [
    {
     "name": "stdout",
     "output_type": "stream",
     "text": [
      "11.0\n"
     ]
    }
   ],
   "source": [
    "text = \"3 + 8\"\n",
    "result = parser.parse(lexer.tokenize(text))\n",
    "print(result)"
   ]
  },
  {
   "cell_type": "code",
   "execution_count": null,
   "id": "3a8adaeb-f296-4055-9891-9775c4032577",
   "metadata": {},
   "outputs": [],
   "source": []
  }
 ],
 "metadata": {
  "kernelspec": {
   "display_name": "Python 3 (ipykernel)",
   "language": "python",
   "name": "python3"
  },
  "language_info": {
   "codemirror_mode": {
    "name": "ipython",
    "version": 3
   },
   "file_extension": ".py",
   "mimetype": "text/x-python",
   "name": "python",
   "nbconvert_exporter": "python",
   "pygments_lexer": "ipython3",
   "version": "3.10.4"
  }
 },
 "nbformat": 4,
 "nbformat_minor": 5
}
