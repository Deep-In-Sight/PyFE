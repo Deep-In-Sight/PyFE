{
 "cells": [
  {
   "cell_type": "code",
   "execution_count": 23,
   "id": "313e9bc4",
   "metadata": {},
   "outputs": [],
   "source": [
    "import llvmlite\n",
    "import astpretty"
   ]
  },
  {
   "cell_type": "code",
   "execution_count": null,
   "id": "bffafe01",
   "metadata": {},
   "outputs": [],
   "source": [
    "ctxt = Ciphertext(arr)\n",
    "result = 2*ctxt**4 + 3*ctxt**3 + 1.5*ctxt**2 - 2*ctxt - 10.2"
   ]
  },
  {
   "cell_type": "code",
   "execution_count": null,
   "id": "7dc9968e",
   "metadata": {},
   "outputs": [],
   "source": [
    "# \n",
    "x2 = ev.square(ctxt) # L=1\n",
    "x2.rescale()\n",
    "\n",
    "x3 = ev.mult(ev.mod_switch(ctxt), x2) # L=2\n",
    "x3.rescale()\n",
    "\n",
    "x4 = ev.square(x2) # L=2\n",
    "x4.rescale()\n",
    "\n",
    "ev.mod_switch(x2) # L=2\n",
    "x1 = ev.copy(ctxt) # L=0\n",
    "ev.mod_switch_to(c1, x4) # L=2\n",
    "\n",
    "coeff0 = Plaintext(-10.2)\n",
    "coeff1 = Plaintext(-2)\n",
    "coeff2 = Plaintext(1.5)\n",
    "coeff3 = Plaintext(3)\n",
    "coeff4 = Plaintext(2)\n",
    "\n",
    "result = ev.add_plain(\n",
    "                    ev.add(\n",
    "                        ev.add(ev.mult_plain(x4, coeff4), ev.mult_plain(x3, coeff3)),\n",
    "                        ev.add(ev.mult_plain(x2, coeff2), ev.mult_plain(x1, coeff1))),\n",
    "                    coeff0)"
   ]
  },
  {
   "cell_type": "code",
   "execution_count": 35,
   "id": "6c1c2a7c",
   "metadata": {},
   "outputs": [],
   "source": [
    "def my_fun(x):\n",
    "    return x+1"
   ]
  },
  {
   "cell_type": "code",
   "execution_count": 44,
   "id": "8e47418a",
   "metadata": {},
   "outputs": [],
   "source": [
    "code = ast.parse(ast.FunctionDef(my_fun))"
   ]
  },
  {
   "cell_type": "code",
   "execution_count": 45,
   "id": "3fd76374",
   "metadata": {},
   "outputs": [
    {
     "ename": "AttributeError",
     "evalue": "'FunctionDef' object has no attribute 'args'",
     "output_type": "error",
     "traceback": [
      "\u001b[1;31m---------------------------------------------------------------------------\u001b[0m",
      "\u001b[1;31mAttributeError\u001b[0m                            Traceback (most recent call last)",
      "Input \u001b[1;32mIn [45]\u001b[0m, in \u001b[0;36m<cell line: 1>\u001b[1;34m()\u001b[0m\n\u001b[1;32m----> 1\u001b[0m \u001b[43mastpretty\u001b[49m\u001b[38;5;241;43m.\u001b[39;49m\u001b[43mpprint\u001b[49m\u001b[43m(\u001b[49m\u001b[43mcode\u001b[49m\u001b[43m)\u001b[49m\n",
      "File \u001b[1;32m~\\anaconda3\\lib\\site-packages\\astpretty.py:125\u001b[0m, in \u001b[0;36mpprint\u001b[1;34m(*args, **kwargs)\u001b[0m\n\u001b[0;32m    124\u001b[0m \u001b[38;5;28;01mdef\u001b[39;00m \u001b[38;5;21mpprint\u001b[39m(\u001b[38;5;241m*\u001b[39margs: Any, \u001b[38;5;241m*\u001b[39m\u001b[38;5;241m*\u001b[39mkwargs: Any) \u001b[38;5;241m-\u001b[39m\u001b[38;5;241m>\u001b[39m \u001b[38;5;28;01mNone\u001b[39;00m:\n\u001b[1;32m--> 125\u001b[0m     \u001b[38;5;28mprint\u001b[39m(pformat(\u001b[38;5;241m*\u001b[39margs, \u001b[38;5;241m*\u001b[39m\u001b[38;5;241m*\u001b[39mkwargs))\n",
      "File \u001b[1;32m~\\anaconda3\\lib\\site-packages\\astpretty.py:68\u001b[0m, in \u001b[0;36mpformat\u001b[1;34m(node, indent, show_offsets, _indent)\u001b[0m\n\u001b[0;32m     66\u001b[0m \u001b[38;5;28;01melif\u001b[39;00m \u001b[38;5;28misinstance\u001b[39m(node, \u001b[38;5;28mstr\u001b[39m):  \u001b[38;5;66;03m# pragma: no cover (ast27 typed-ast args)\u001b[39;00m\n\u001b[0;32m     67\u001b[0m     \u001b[38;5;28;01mreturn\u001b[39;00m \u001b[38;5;28mrepr\u001b[39m(node)\n\u001b[1;32m---> 68\u001b[0m \u001b[38;5;28;01melif\u001b[39;00m \u001b[43m_is_leaf\u001b[49m\u001b[43m(\u001b[49m\u001b[43mnode\u001b[49m\u001b[43m)\u001b[49m:\n\u001b[0;32m     69\u001b[0m     \u001b[38;5;28;01mreturn\u001b[39;00m _leaf(node, show_offsets\u001b[38;5;241m=\u001b[39mshow_offsets)\n\u001b[0;32m     70\u001b[0m \u001b[38;5;28;01melse\u001b[39;00m:\n",
      "File \u001b[1;32m~\\anaconda3\\lib\\site-packages\\astpretty.py:20\u001b[0m, in \u001b[0;36m_is_leaf\u001b[1;34m(node)\u001b[0m\n\u001b[0;32m     18\u001b[0m \u001b[38;5;28;01mdef\u001b[39;00m \u001b[38;5;21m_is_leaf\u001b[39m(node: ast\u001b[38;5;241m.\u001b[39mAST) \u001b[38;5;241m-\u001b[39m\u001b[38;5;241m>\u001b[39m \u001b[38;5;28mbool\u001b[39m:\n\u001b[0;32m     19\u001b[0m     \u001b[38;5;28;01mfor\u001b[39;00m field \u001b[38;5;129;01min\u001b[39;00m node\u001b[38;5;241m.\u001b[39m_fields:\n\u001b[1;32m---> 20\u001b[0m         attr \u001b[38;5;241m=\u001b[39m \u001b[38;5;28;43mgetattr\u001b[39;49m\u001b[43m(\u001b[49m\u001b[43mnode\u001b[49m\u001b[43m,\u001b[49m\u001b[43m \u001b[49m\u001b[43mfield\u001b[49m\u001b[43m)\u001b[49m\n\u001b[0;32m     21\u001b[0m         \u001b[38;5;28;01mif\u001b[39;00m _is_sub_node(attr):\n\u001b[0;32m     22\u001b[0m             \u001b[38;5;28;01mreturn\u001b[39;00m \u001b[38;5;28;01mFalse\u001b[39;00m\n",
      "\u001b[1;31mAttributeError\u001b[0m: 'FunctionDef' object has no attribute 'args'"
     ]
    }
   ],
   "source": [
    "astpretty.pprint(code)"
   ]
  },
  {
   "cell_type": "code",
   "execution_count": 39,
   "id": "24965113",
   "metadata": {},
   "outputs": [],
   "source": [
    "code = ast.parse(ast.Name(id='my_fun', ctx=ast.Load()))"
   ]
  },
  {
   "cell_type": "code",
   "execution_count": 40,
   "id": "1928ea33",
   "metadata": {},
   "outputs": [
    {
     "ename": "AttributeError",
     "evalue": "'Name' object has no attribute 'lineno'",
     "output_type": "error",
     "traceback": [
      "\u001b[1;31m---------------------------------------------------------------------------\u001b[0m",
      "\u001b[1;31mAttributeError\u001b[0m                            Traceback (most recent call last)",
      "Input \u001b[1;32mIn [40]\u001b[0m, in \u001b[0;36m<cell line: 1>\u001b[1;34m()\u001b[0m\n\u001b[1;32m----> 1\u001b[0m \u001b[43mastpretty\u001b[49m\u001b[38;5;241;43m.\u001b[39;49m\u001b[43mpprint\u001b[49m\u001b[43m(\u001b[49m\u001b[43mcode\u001b[49m\u001b[43m)\u001b[49m\n",
      "File \u001b[1;32m~\\anaconda3\\lib\\site-packages\\astpretty.py:125\u001b[0m, in \u001b[0;36mpprint\u001b[1;34m(*args, **kwargs)\u001b[0m\n\u001b[0;32m    124\u001b[0m \u001b[38;5;28;01mdef\u001b[39;00m \u001b[38;5;21mpprint\u001b[39m(\u001b[38;5;241m*\u001b[39margs: Any, \u001b[38;5;241m*\u001b[39m\u001b[38;5;241m*\u001b[39mkwargs: Any) \u001b[38;5;241m-\u001b[39m\u001b[38;5;241m>\u001b[39m \u001b[38;5;28;01mNone\u001b[39;00m:\n\u001b[1;32m--> 125\u001b[0m     \u001b[38;5;28mprint\u001b[39m(pformat(\u001b[38;5;241m*\u001b[39margs, \u001b[38;5;241m*\u001b[39m\u001b[38;5;241m*\u001b[39mkwargs))\n",
      "File \u001b[1;32m~\\anaconda3\\lib\\site-packages\\astpretty.py:69\u001b[0m, in \u001b[0;36mpformat\u001b[1;34m(node, indent, show_offsets, _indent)\u001b[0m\n\u001b[0;32m     67\u001b[0m     \u001b[38;5;28;01mreturn\u001b[39;00m \u001b[38;5;28mrepr\u001b[39m(node)\n\u001b[0;32m     68\u001b[0m \u001b[38;5;28;01melif\u001b[39;00m _is_leaf(node):\n\u001b[1;32m---> 69\u001b[0m     \u001b[38;5;28;01mreturn\u001b[39;00m \u001b[43m_leaf\u001b[49m\u001b[43m(\u001b[49m\u001b[43mnode\u001b[49m\u001b[43m,\u001b[49m\u001b[43m \u001b[49m\u001b[43mshow_offsets\u001b[49m\u001b[38;5;241;43m=\u001b[39;49m\u001b[43mshow_offsets\u001b[49m\u001b[43m)\u001b[49m\n\u001b[0;32m     70\u001b[0m \u001b[38;5;28;01melse\u001b[39;00m:\n\u001b[0;32m     71\u001b[0m     \u001b[38;5;28;01mif\u001b[39;00m \u001b[38;5;28misinstance\u001b[39m(indent, \u001b[38;5;28mint\u001b[39m):\n",
      "File \u001b[1;32m~\\anaconda3\\lib\\site-packages\\astpretty.py:42\u001b[0m, in \u001b[0;36m_leaf\u001b[1;34m(node, show_offsets)\u001b[0m\n\u001b[0;32m     38\u001b[0m \u001b[38;5;28;01mdef\u001b[39;00m \u001b[38;5;21m_leaf\u001b[39m(node: ast\u001b[38;5;241m.\u001b[39mAST, show_offsets: \u001b[38;5;28mbool\u001b[39m \u001b[38;5;241m=\u001b[39m \u001b[38;5;28;01mTrue\u001b[39;00m) \u001b[38;5;241m-\u001b[39m\u001b[38;5;241m>\u001b[39m \u001b[38;5;28mstr\u001b[39m:\n\u001b[0;32m     39\u001b[0m     \u001b[38;5;28;01mif\u001b[39;00m \u001b[38;5;28misinstance\u001b[39m(node, AST):\n\u001b[0;32m     40\u001b[0m         \u001b[38;5;28;01mreturn\u001b[39;00m \u001b[38;5;124m'\u001b[39m\u001b[38;5;132;01m{}\u001b[39;00m\u001b[38;5;124m(\u001b[39m\u001b[38;5;132;01m{}\u001b[39;00m\u001b[38;5;124m)\u001b[39m\u001b[38;5;124m'\u001b[39m\u001b[38;5;241m.\u001b[39mformat(\n\u001b[0;32m     41\u001b[0m             \u001b[38;5;28mtype\u001b[39m(node)\u001b[38;5;241m.\u001b[39m\u001b[38;5;18m__name__\u001b[39m,\n\u001b[1;32m---> 42\u001b[0m             \u001b[38;5;124;43m'\u001b[39;49m\u001b[38;5;124;43m, \u001b[39;49m\u001b[38;5;124;43m'\u001b[39;49m\u001b[38;5;241;43m.\u001b[39;49m\u001b[43mjoin\u001b[49m\u001b[43m(\u001b[49m\n\u001b[0;32m     43\u001b[0m \u001b[43m                \u001b[49m\u001b[38;5;124;43m'\u001b[39;49m\u001b[38;5;132;43;01m{}\u001b[39;49;00m\u001b[38;5;124;43m=\u001b[39;49m\u001b[38;5;132;43;01m{}\u001b[39;49;00m\u001b[38;5;124;43m'\u001b[39;49m\u001b[38;5;241;43m.\u001b[39;49m\u001b[43mformat\u001b[49m\u001b[43m(\u001b[49m\n\u001b[0;32m     44\u001b[0m \u001b[43m                    \u001b[49m\u001b[43mfield\u001b[49m\u001b[43m,\u001b[49m\n\u001b[0;32m     45\u001b[0m \u001b[43m                    \u001b[49m\u001b[43m_leaf\u001b[49m\u001b[43m(\u001b[49m\u001b[38;5;28;43mgetattr\u001b[39;49m\u001b[43m(\u001b[49m\u001b[43mnode\u001b[49m\u001b[43m,\u001b[49m\u001b[43m \u001b[49m\u001b[43mfield\u001b[49m\u001b[43m)\u001b[49m\u001b[43m,\u001b[49m\u001b[43m \u001b[49m\u001b[43mshow_offsets\u001b[49m\u001b[38;5;241;43m=\u001b[39;49m\u001b[43mshow_offsets\u001b[49m\u001b[43m)\u001b[49m\u001b[43m,\u001b[49m\n\u001b[0;32m     46\u001b[0m \u001b[43m                \u001b[49m\u001b[43m)\u001b[49m\n\u001b[0;32m     47\u001b[0m \u001b[43m                \u001b[49m\u001b[38;5;28;43;01mfor\u001b[39;49;00m\u001b[43m \u001b[49m\u001b[43mfield\u001b[49m\u001b[43m \u001b[49m\u001b[38;5;129;43;01min\u001b[39;49;00m\u001b[43m \u001b[49m\u001b[43m_fields\u001b[49m\u001b[43m(\u001b[49m\u001b[43mnode\u001b[49m\u001b[43m,\u001b[49m\u001b[43m \u001b[49m\u001b[43mshow_offsets\u001b[49m\u001b[38;5;241;43m=\u001b[39;49m\u001b[43mshow_offsets\u001b[49m\u001b[43m)\u001b[49m\n\u001b[0;32m     48\u001b[0m \u001b[43m            \u001b[49m\u001b[43m)\u001b[49m,\n\u001b[0;32m     49\u001b[0m         )\n\u001b[0;32m     50\u001b[0m     \u001b[38;5;28;01melif\u001b[39;00m \u001b[38;5;28misinstance\u001b[39m(node, \u001b[38;5;28mlist\u001b[39m):\n\u001b[0;32m     51\u001b[0m         \u001b[38;5;28;01mreturn\u001b[39;00m \u001b[38;5;124m'\u001b[39m\u001b[38;5;124m[\u001b[39m\u001b[38;5;132;01m{}\u001b[39;00m\u001b[38;5;124m]\u001b[39m\u001b[38;5;124m'\u001b[39m\u001b[38;5;241m.\u001b[39mformat(\n\u001b[0;32m     52\u001b[0m             \u001b[38;5;124m'\u001b[39m\u001b[38;5;124m, \u001b[39m\u001b[38;5;124m'\u001b[39m\u001b[38;5;241m.\u001b[39mjoin(_leaf(x, show_offsets\u001b[38;5;241m=\u001b[39mshow_offsets) \u001b[38;5;28;01mfor\u001b[39;00m x \u001b[38;5;129;01min\u001b[39;00m node),\n\u001b[0;32m     53\u001b[0m         )\n",
      "File \u001b[1;32m~\\anaconda3\\lib\\site-packages\\astpretty.py:45\u001b[0m, in \u001b[0;36m<genexpr>\u001b[1;34m(.0)\u001b[0m\n\u001b[0;32m     38\u001b[0m \u001b[38;5;28;01mdef\u001b[39;00m \u001b[38;5;21m_leaf\u001b[39m(node: ast\u001b[38;5;241m.\u001b[39mAST, show_offsets: \u001b[38;5;28mbool\u001b[39m \u001b[38;5;241m=\u001b[39m \u001b[38;5;28;01mTrue\u001b[39;00m) \u001b[38;5;241m-\u001b[39m\u001b[38;5;241m>\u001b[39m \u001b[38;5;28mstr\u001b[39m:\n\u001b[0;32m     39\u001b[0m     \u001b[38;5;28;01mif\u001b[39;00m \u001b[38;5;28misinstance\u001b[39m(node, AST):\n\u001b[0;32m     40\u001b[0m         \u001b[38;5;28;01mreturn\u001b[39;00m \u001b[38;5;124m'\u001b[39m\u001b[38;5;132;01m{}\u001b[39;00m\u001b[38;5;124m(\u001b[39m\u001b[38;5;132;01m{}\u001b[39;00m\u001b[38;5;124m)\u001b[39m\u001b[38;5;124m'\u001b[39m\u001b[38;5;241m.\u001b[39mformat(\n\u001b[0;32m     41\u001b[0m             \u001b[38;5;28mtype\u001b[39m(node)\u001b[38;5;241m.\u001b[39m\u001b[38;5;18m__name__\u001b[39m,\n\u001b[0;32m     42\u001b[0m             \u001b[38;5;124m'\u001b[39m\u001b[38;5;124m, \u001b[39m\u001b[38;5;124m'\u001b[39m\u001b[38;5;241m.\u001b[39mjoin(\n\u001b[0;32m     43\u001b[0m                 \u001b[38;5;124m'\u001b[39m\u001b[38;5;132;01m{}\u001b[39;00m\u001b[38;5;124m=\u001b[39m\u001b[38;5;132;01m{}\u001b[39;00m\u001b[38;5;124m'\u001b[39m\u001b[38;5;241m.\u001b[39mformat(\n\u001b[0;32m     44\u001b[0m                     field,\n\u001b[1;32m---> 45\u001b[0m                     _leaf(\u001b[38;5;28;43mgetattr\u001b[39;49m\u001b[43m(\u001b[49m\u001b[43mnode\u001b[49m\u001b[43m,\u001b[49m\u001b[43m \u001b[49m\u001b[43mfield\u001b[49m\u001b[43m)\u001b[49m, show_offsets\u001b[38;5;241m=\u001b[39mshow_offsets),\n\u001b[0;32m     46\u001b[0m                 )\n\u001b[0;32m     47\u001b[0m                 \u001b[38;5;28;01mfor\u001b[39;00m field \u001b[38;5;129;01min\u001b[39;00m _fields(node, show_offsets\u001b[38;5;241m=\u001b[39mshow_offsets)\n\u001b[0;32m     48\u001b[0m             ),\n\u001b[0;32m     49\u001b[0m         )\n\u001b[0;32m     50\u001b[0m     \u001b[38;5;28;01melif\u001b[39;00m \u001b[38;5;28misinstance\u001b[39m(node, \u001b[38;5;28mlist\u001b[39m):\n\u001b[0;32m     51\u001b[0m         \u001b[38;5;28;01mreturn\u001b[39;00m \u001b[38;5;124m'\u001b[39m\u001b[38;5;124m[\u001b[39m\u001b[38;5;132;01m{}\u001b[39;00m\u001b[38;5;124m]\u001b[39m\u001b[38;5;124m'\u001b[39m\u001b[38;5;241m.\u001b[39mformat(\n\u001b[0;32m     52\u001b[0m             \u001b[38;5;124m'\u001b[39m\u001b[38;5;124m, \u001b[39m\u001b[38;5;124m'\u001b[39m\u001b[38;5;241m.\u001b[39mjoin(_leaf(x, show_offsets\u001b[38;5;241m=\u001b[39mshow_offsets) \u001b[38;5;28;01mfor\u001b[39;00m x \u001b[38;5;129;01min\u001b[39;00m node),\n\u001b[0;32m     53\u001b[0m         )\n",
      "\u001b[1;31mAttributeError\u001b[0m: 'Name' object has no attribute 'lineno'"
     ]
    }
   ],
   "source": [
    "astpretty.pprint(code)"
   ]
  },
  {
   "cell_type": "code",
   "execution_count": null,
   "id": "6b3567ee",
   "metadata": {},
   "outputs": [],
   "source": [
    "def sum_reduce(ctxt:Ciphertext):\n",
    "    \"\"\"calcualte the sum of the array elements\n",
    "    \n",
    "        example\n",
    "        -------\n",
    "        ctxt = Ciphertext([1,2,3,4,5,6,7,8,9,10])\n",
    "        decryptor.decrypt(encoder.decode(sum_reduce(ctxt)))\n",
    "    \"\"\"\n",
    "    for i in range(ctxt.lognslot):\n",
    "        tmp = evaluator.copy(ctxt_)\n",
    "        evaluator.lrot_inplace(tmp, 2**i)\n",
    "        evaluator.add_inplace(ctxt_, tmp)\n",
    "    return ctxt_"
   ]
  },
  {
   "cell_type": "code",
   "execution_count": 25,
   "id": "4da47642",
   "metadata": {
    "scrolled": true
   },
   "outputs": [
    {
     "ename": "NameError",
     "evalue": "name 'fhe' is not defined",
     "output_type": "error",
     "traceback": [
      "\u001b[1;31m---------------------------------------------------------------------------\u001b[0m",
      "\u001b[1;31mNameError\u001b[0m                                 Traceback (most recent call last)",
      "Input \u001b[1;32mIn [25]\u001b[0m, in \u001b[0;36m<cell line: 1>\u001b[1;34m()\u001b[0m\n\u001b[1;32m----> 1\u001b[0m \u001b[38;5;129m@fhe\u001b[39m\u001b[38;5;241m.\u001b[39mjit\n\u001b[0;32m      2\u001b[0m \u001b[38;5;28;01mdef\u001b[39;00m \u001b[38;5;21mfun\u001b[39m(a,b):\n\u001b[0;32m      3\u001b[0m     \u001b[38;5;28;01mreturn\u001b[39;00m a\u001b[38;5;241m*\u001b[39m\u001b[38;5;241m*\u001b[39m\u001b[38;5;241m2\u001b[39m \u001b[38;5;241m+\u001b[39m b\u001b[38;5;241m*\u001b[39m\u001b[38;5;241m*\u001b[39m\u001b[38;5;241m3\u001b[39m\n",
      "\u001b[1;31mNameError\u001b[0m: name 'fhe' is not defined"
     ]
    }
   ],
   "source": [
    "@fhe.jit\n",
    "def fun(a,b):\n",
    "    return a**2 + b**3"
   ]
  },
  {
   "cell_type": "code",
   "execution_count": null,
   "id": "2414b8ba",
   "metadata": {},
   "outputs": [],
   "source": [
    "def fun(a,b):\n",
    "    a2 = evaluate.square(a)\n",
    "    b3 = evaluate.mult(b, evaluate.square(b))\n",
    "    return a2 + b3"
   ]
  },
  {
   "cell_type": "code",
   "execution_count": 26,
   "id": "4429a742",
   "metadata": {
    "scrolled": true
   },
   "outputs": [
    {
     "name": "stdout",
     "output_type": "stream",
     "text": [
      "Module(\n",
      "    body=[\n",
      "        Assign(\n",
      "            lineno=1,\n",
      "            col_offset=0,\n",
      "            end_lineno=1,\n",
      "            end_col_offset=16,\n",
      "            targets=[Name(lineno=1, col_offset=0, end_lineno=1, end_col_offset=2, id='zz', ctx=Store())],\n",
      "            value=BinOp(\n",
      "                lineno=1,\n",
      "                col_offset=5,\n",
      "                end_lineno=1,\n",
      "                end_col_offset=16,\n",
      "                left=BinOp(\n",
      "                    lineno=1,\n",
      "                    col_offset=5,\n",
      "                    end_lineno=1,\n",
      "                    end_col_offset=9,\n",
      "                    left=Name(lineno=1, col_offset=5, end_lineno=1, end_col_offset=6, id='a', ctx=Load()),\n",
      "                    op=Pow(),\n",
      "                    right=Constant(lineno=1, col_offset=8, end_lineno=1, end_col_offset=9, value=2, kind=None),\n",
      "                ),\n",
      "                op=Add(),\n",
      "                right=BinOp(\n",
      "                    lineno=1,\n",
      "                    col_offset=12,\n",
      "                    end_lineno=1,\n",
      "                    end_col_offset=16,\n",
      "                    left=Name(lineno=1, col_offset=12, end_lineno=1, end_col_offset=13, id='b', ctx=Load()),\n",
      "                    op=Pow(),\n",
      "                    right=Constant(lineno=1, col_offset=15, end_lineno=1, end_col_offset=16, value=3, kind=None),\n",
      "                ),\n",
      "            ),\n",
      "            type_comment=None,\n",
      "        ),\n",
      "        Return(\n",
      "            lineno=2,\n",
      "            col_offset=0,\n",
      "            end_lineno=2,\n",
      "            end_col_offset=9,\n",
      "            value=Name(lineno=2, col_offset=7, end_lineno=2, end_col_offset=9, id='zz', ctx=Load()),\n",
      "        ),\n",
      "    ],\n",
      "    type_ignores=[],\n",
      ")\n"
     ]
    }
   ],
   "source": [
    "code = ast.parse(\"zz = a**2 + b**3 \\nreturn zz\")\n",
    "astpretty.pprint(code)"
   ]
  },
  {
   "cell_type": "code",
   "execution_count": 32,
   "id": "58bdb030",
   "metadata": {},
   "outputs": [
    {
     "name": "stdout",
     "output_type": "stream",
     "text": [
      "Module(\n",
      "    body=[\n",
      "        Assign(\n",
      "            lineno=1,\n",
      "            col_offset=0,\n",
      "            end_lineno=1,\n",
      "            end_col_offset=12,\n",
      "            targets=[Name(lineno=1, col_offset=0, end_lineno=1, end_col_offset=2, id='zz', ctx=Store())],\n",
      "            value=List(\n",
      "                lineno=1,\n",
      "                col_offset=5,\n",
      "                end_lineno=1,\n",
      "                end_col_offset=12,\n",
      "                elts=[\n",
      "                    Constant(lineno=1, col_offset=6, end_lineno=1, end_col_offset=7, value=1, kind=None),\n",
      "                    Constant(lineno=1, col_offset=8, end_lineno=1, end_col_offset=9, value=2, kind=None),\n",
      "                    Constant(lineno=1, col_offset=10, end_lineno=1, end_col_offset=11, value=3, kind=None),\n",
      "                ],\n",
      "                ctx=Load(),\n",
      "            ),\n",
      "            type_comment=None,\n",
      "        ),\n",
      "        Expr(\n",
      "            lineno=2,\n",
      "            col_offset=0,\n",
      "            end_lineno=2,\n",
      "            end_col_offset=7,\n",
      "            value=Call(\n",
      "                lineno=2,\n",
      "                col_offset=0,\n",
      "                end_lineno=2,\n",
      "                end_col_offset=7,\n",
      "                func=Name(lineno=2, col_offset=0, end_lineno=2, end_col_offset=3, id='len', ctx=Load()),\n",
      "                args=[Name(lineno=2, col_offset=4, end_lineno=2, end_col_offset=6, id='zz', ctx=Load())],\n",
      "                keywords=[],\n",
      "            ),\n",
      "        ),\n",
      "    ],\n",
      "    type_ignores=[],\n",
      ")\n"
     ]
    }
   ],
   "source": [
    "code = ast.parse(\"zz = [1,2,3]\\nlen(zz)\")\n",
    "astpretty.pprint(code)"
   ]
  },
  {
   "cell_type": "code",
   "execution_count": null,
   "id": "334ab4b6",
   "metadata": {},
   "outputs": [],
   "source": []
  },
  {
   "cell_type": "code",
   "execution_count": null,
   "id": "d6b58bdb",
   "metadata": {},
   "outputs": [],
   "source": [
    "llvmlite."
   ]
  },
  {
   "cell_type": "code",
   "execution_count": 1,
   "id": "36258646",
   "metadata": {},
   "outputs": [],
   "source": [
    "import ast"
   ]
  },
  {
   "cell_type": "code",
   "execution_count": 19,
   "id": "e3273ecb",
   "metadata": {
    "collapsed": true
   },
   "outputs": [
    {
     "name": "stdout",
     "output_type": "stream",
     "text": [
      "Module(body=[Assign(targets=[Name(id='zz', ctx=Store())], value=BinOp(left=BinOp(left=Name(id='a', ctx=Load()), op=Pow(), right=Constant(value=2)), op=Add(), right=BinOp(left=Name(id='b', ctx=Load()), op=Pow(), right=Constant(value=3)))), Return(value=BinOp(left=Name(id='zz', ctx=Load()), op=Mult(), right=BinOp(left=Name(id='a', ctx=Load()), op=Add(), right=Name(id='b', ctx=Load()))))], type_ignores=[])\n"
     ]
    }
   ],
   "source": [
    "print(ast.dump(code))"
   ]
  },
  {
   "cell_type": "code",
   "execution_count": null,
   "id": "fffaf53c",
   "metadata": {},
   "outputs": [],
   "source": [
    "ast"
   ]
  },
  {
   "cell_type": "code",
   "execution_count": 6,
   "id": "2db8e87c",
   "metadata": {},
   "outputs": [
    {
     "name": "stdout",
     "output_type": "stream",
     "text": [
      "hi hello\n"
     ]
    }
   ],
   "source": [
    "exec(compile(code, filename=\"\", mode=\"exec\"))"
   ]
  },
  {
   "cell_type": "code",
   "execution_count": 13,
   "id": "7fece6a8",
   "metadata": {},
   "outputs": [
    {
     "name": "stdout",
     "output_type": "stream",
     "text": [
      "\n",
      "=== AST ===\n",
      "Module(\n",
      "    body=[\n",
      "        Assign(\n",
      "            targets=[\n",
      "                Name(id='left_op', ctx=Store())],\n",
      "            value=Constant(value=1)),\n",
      "        Assign(\n",
      "            targets=[\n",
      "                Name(id='right_op', ctx=Store())],\n",
      "            value=Constant(value=2)),\n",
      "        Assign(\n",
      "            targets=[\n",
      "                Name(id='sum_two_things', ctx=Store())],\n",
      "            value=BinOp(\n",
      "                left=Name(id='left_op', ctx=Load()),\n",
      "                op=Add(),\n",
      "                right=Name(id='right_op', ctx=Load()))),\n",
      "        Assign(\n",
      "            targets=[\n",
      "                Name(id='other_sum', ctx=Store())],\n",
      "            value=BinOp(\n",
      "                left=Name(id='sum_two_things', ctx=Load()),\n",
      "                op=Sub(),\n",
      "                right=Constant(value=1))),\n",
      "        Expr(\n",
      "            value=Call(\n",
      "                func=Name(id='print', ctx=Load()),\n",
      "                args=[\n",
      "                    Name(id='sum_two_things', ctx=Load())],\n",
      "                keywords=[])),\n",
      "        Expr(\n",
      "            value=Call(\n",
      "                func=Name(id='print', ctx=Load()),\n",
      "                args=[\n",
      "                    Name(id='other_sum', ctx=Load())],\n",
      "                keywords=[]))],\n",
      "    type_ignores=[])\n",
      "---\n",
      "3\n",
      "2\n",
      "replacing constant 1 -> 8 at lineno: 2\n",
      "replacing constant 2 -> -9 at lineno: 3\n",
      "replacing constant 1 -> 3 at lineno: 5\n"
     ]
    }
   ],
   "source": [
    "import ast\n",
    "import random\n",
    "\n",
    "class ConstantTransformer(ast.NodeTransformer):\n",
    "    def visit_Constant(self, node):\n",
    "        new_value = random.randint(-10, 10)\n",
    "        print(f\"replacing constant {node.value} -> {new_value} at lineno: {node.lineno}\")\n",
    "        new_node = ast.Constant(new_value)\n",
    "        return new_node\n",
    "\n",
    "def exec_tree(tree):\n",
    "    print()\n",
    "    print(\"=== AST ===\")\n",
    "    print(ast.dump(tree, indent=4))\n",
    "    print('---')\n",
    "\n",
    "    tree_fixed = ast.fix_missing_locations(tree)\n",
    "    code_obj = compile(tree_fixed, '', 'exec')\n",
    "    exec(code_obj)\n",
    "\n",
    "code = \"\"\"\n",
    "left_op = 1\n",
    "right_op = 2\n",
    "sum_two_things = left_op + right_op\n",
    "other_sum = sum_two_things - 1\n",
    "\n",
    "print(sum_two_things)\n",
    "print(other_sum)\n",
    "\"\"\"\n",
    "\n",
    "tree = ast.parse(code)\n",
    "exec_tree(tree)\n",
    "\n",
    "## fix seed\n",
    "random.seed(10)\n",
    "\n",
    "## apply the transformations\n",
    "vis = ConstantTransformer()\n",
    "new_tree = vis.visit(tree)"
   ]
  },
  {
   "cell_type": "code",
   "execution_count": 4,
   "id": "7869a954",
   "metadata": {},
   "outputs": [
    {
     "name": "stdout",
     "output_type": "stream",
     "text": [
      "Before transformation:\n",
      "\"Expression(body=Name(id='foo', ctx=Load()))\"\n",
      "After transformation:\n",
      "(\"Expression(body=Subscript(value=Name(id='data', ctx=Load()), \"\n",
      " \"slice=Constant(value='foo'), ctx=Load()))\")\n"
     ]
    }
   ],
   "source": [
    "import ast\n",
    "from pprint import pprint\n",
    "\n",
    "class TransformName(ast.NodeTransformer):\n",
    "\n",
    "    def visit_Name(self, node):\n",
    "        return ast.Subscript(\n",
    "            value=ast.Name(id='data', ctx=ast.Load()),\n",
    "            slice=ast.Constant(value=node.id),\n",
    "            ctx=node.ctx\n",
    "        )\n",
    "\n",
    "tree = ast.parse('foo', mode='eval')\n",
    "print(\"Before transformation:\")\n",
    "pprint(ast.dump(tree))\n",
    "\n",
    "print(\"After transformation:\")\n",
    "ast.fix_missing_locations(TransformName().visit(tree))\n",
    "pprint(ast.dump(tree))"
   ]
  },
  {
   "cell_type": "code",
   "execution_count": null,
   "id": "b60cf6db",
   "metadata": {},
   "outputs": [],
   "source": []
  },
  {
   "cell_type": "code",
   "execution_count": 14,
   "id": "1355c846",
   "metadata": {},
   "outputs": [
    {
     "name": "stdout",
     "output_type": "stream",
     "text": [
      "7.0\n",
      "[4, 6]\n",
      "{'a': -1}\n"
     ]
    }
   ],
   "source": [
    "import ast\n",
    "from itertools import zip_longest\n",
    "\n",
    "def __custom_add(lhs, rhs):\n",
    "    if isinstance(lhs,list) and isinstance(rhs, list):\n",
    "        return [__custom_add(l, r) for l, r in zip_longest(lhs, rhs, fillvalue=0)]\n",
    "\n",
    "    if isinstance(lhs, dict) and isinstance(rhs, dict):\n",
    "        keys = lhs.keys() | rhs.keys()\n",
    "        return {key: __custom_add(lhs.get(key,0), rhs.get(key,0)) for key in keys}\n",
    "\n",
    "    return lhs + rhs\n",
    "\n",
    "class SumTransformer(ast.NodeTransformer):\n",
    "\n",
    "    def visit_BinOp(self, node):\n",
    "        if isinstance(node.op, ast.Add):\n",
    "            new_node = ast.Call(func=ast.Name(id='__custom_add', ctx=ast.Load()),\n",
    "                            args=[node.left, node.right],\n",
    "                            keywords = [],\n",
    "                            starargs = None, kwargs= None\n",
    "                            )\n",
    "            ast.copy_location(new_node, node)\n",
    "            ast.fix_missing_locations(new_node)\n",
    "            return new_node\n",
    "\n",
    "        return node\n",
    "\n",
    "expr = [\n",
    "    '(2 + 3 * 4)/2',\n",
    "    '[1, 2] + [3, 4]',\n",
    "    \"{'a': 1} + {'a': -2}\"\n",
    "    ]\n",
    "\n",
    "\n",
    "for e in expr:\n",
    "    syntax_tree = ast.parse(e, mode='eval')\n",
    "    syntax_tree = SumTransformer().visit(syntax_tree)\n",
    "    res = eval(compile(syntax_tree, '<ast>', 'eval'))\n",
    "    print(res)"
   ]
  },
  {
   "cell_type": "code",
   "execution_count": null,
   "id": "7ce36462",
   "metadata": {},
   "outputs": [],
   "source": []
  }
 ],
 "metadata": {
  "kernelspec": {
   "display_name": "Python 3 (ipykernel)",
   "language": "python",
   "name": "python3"
  },
  "language_info": {
   "codemirror_mode": {
    "name": "ipython",
    "version": 3
   },
   "file_extension": ".py",
   "mimetype": "text/x-python",
   "name": "python",
   "nbconvert_exporter": "python",
   "pygments_lexer": "ipython3",
   "version": "3.9.12"
  }
 },
 "nbformat": 4,
 "nbformat_minor": 5
}
