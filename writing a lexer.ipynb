{
 "cells": [
  {
   "cell_type": "code",
   "execution_count": 1,
   "id": "bed5a976",
   "metadata": {},
   "outputs": [
    {
     "name": "stderr",
     "output_type": "stream",
     "text": [
      "WARNING: Token {STRING} defined, but not used\n",
      "WARNING: There is 1 unused token\n"
     ]
    }
   ],
   "source": [
    "from sly import Lexer\n",
    "from parser import MyParser\n",
    "from my_lexer import MyLexer"
   ]
  },
  {
   "cell_type": "markdown",
   "id": "f5309163",
   "metadata": {},
   "source": [
    "https://sly.readthedocs.io/en/latest/sly.html#writing-a-lexer"
   ]
  },
  {
   "cell_type": "code",
   "execution_count": 4,
   "id": "732d03f7",
   "metadata": {},
   "outputs": [
    {
     "name": "stdout",
     "output_type": "stream",
     "text": [
      "type='ID', value='x'\n",
      "type='ASSIGN', value='='\n",
      "type='NUMBER', value=3\n",
      "type='PLUS', value='+'\n",
      "type='NUMBER', value=42\n",
      "type='TIMES', value='*'\n",
      "type='LPAREN', value='('\n",
      "type='ID', value='s'\n",
      "type='MINUS', value='-'\n",
      "type='ID', value='t'\n",
      "type='RPAREN', value=')'\n"
     ]
    }
   ],
   "source": [
    "from sly import Lexer\n",
    "\n",
    "class CalcLexer(Lexer):\n",
    "    # Set of token names.   This is always required\n",
    "    tokens = { ID, NUMBER, PLUS, MINUS, TIMES, #DIVIDE, \n",
    "              ASSIGN, LPAREN, RPAREN,\n",
    "              IF, ELSE, WHILE,\n",
    "              RESCALE, MODSW, BOOTSTRAP  # 동형암호 special function\n",
    "             }\n",
    "\n",
    "    # String containing ignored characters between tokens\n",
    "    ignore = ' \\t'\n",
    "    \n",
    "    # Other ignored patterns\n",
    "    ignore_comment = r'\\#.*'\n",
    "    ignore_newline = r'\\n+'    \n",
    "\n",
    "    # Regular expression rules for tokens\n",
    "    ID      = r'[a-zA-Z_][a-zA-Z0-9_]*'\n",
    "    NUMBER  = r'\\d+'\n",
    "    PLUS    = r'\\+'\n",
    "    MINUS   = r'-'\n",
    "    TIMES   = r'\\*'\n",
    "    #DIVIDE  = r'/'\n",
    "    ASSIGN  = r'='\n",
    "    LPAREN  = r'\\('\n",
    "    RPAREN  = r'\\)'\n",
    "\n",
    "    # Special cases\n",
    "    ID['if'] = IF\n",
    "    ID['else'] = ELSE\n",
    "    ID['while'] = WHILE\n",
    "    ID['resclae'] = RESCALE\n",
    "    ID['MODSW'] = MODSW\n",
    "    ID['BOOTSTRAP'] = BOOTSTRAP\n",
    "   \n",
    "    \n",
    "    def __init__(self):\n",
    "        self.lineno = 0\n",
    "        self\n",
    "\n",
    "    @_(r\"(0|[1-9][0-9]*)\")\n",
    "    def NUMBER(self, t):\n",
    "        t.value = int(t.value)\n",
    "        return t\n",
    "    \n",
    "    @_(r'''(\"[^\"\\\\]*(\\\\.[^\"\\\\]*)*\"|'[^'\\\\]*(\\\\.[^'\\\\]*)*')''')\n",
    "    def STRING(self, t):\n",
    "        t.value = self.remove_quotes(t.value)\n",
    "        return t\n",
    "\n",
    "    # Define a rule so we can track line numbers\n",
    "    @_(r'\\n+')\n",
    "    def ignore_newline(self, t):\n",
    "        self.lineno += len(t.value)\n",
    "\n",
    "    # RESCALE 동작 정의 \n",
    "    \n",
    "    \n",
    "    # Compute column.\n",
    "    #     input is the input text string\n",
    "    #     token is a token instance\n",
    "    def find_column(text, token):\n",
    "        last_cr = text.rfind('\\n', 0, token.index)\n",
    "        if last_cr < 0:\n",
    "            last_cr = 0\n",
    "        column = (token.index - last_cr) + 1\n",
    "        return column    \n",
    "    \n",
    "    \n",
    "if __name__ == '__main__':\n",
    "    data = '''x = 3 + 42\n",
    "                * (s    # This is a comment\n",
    "                    - t)'''\n",
    "    lexer = CalcLexer()\n",
    "    for tok in lexer.tokenize(data):\n",
    "        print('type=%r, value=%r' % (tok.type, tok.value))"
   ]
  },
  {
   "cell_type": "code",
   "execution_count": null,
   "id": "39033949",
   "metadata": {},
   "outputs": [],
   "source": []
  }
 ],
 "metadata": {
  "kernelspec": {
   "display_name": "Python 3.10.4 ('fhe')",
   "language": "python",
   "name": "python3"
  },
  "language_info": {
   "codemirror_mode": {
    "name": "ipython",
    "version": 3
   },
   "file_extension": ".py",
   "mimetype": "text/x-python",
   "name": "python",
   "nbconvert_exporter": "python",
   "pygments_lexer": "ipython3",
   "version": "3.10.4"
  },
  "vscode": {
   "interpreter": {
    "hash": "5075a704c0d3e9d28fc016097ccb4606b3aa41f4550d939e934d30fcf66246ef"
   }
  }
 },
 "nbformat": 4,
 "nbformat_minor": 5
}
