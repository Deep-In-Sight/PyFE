{
 "cells": [
  {
   "cell_type": "code",
   "execution_count": 1,
   "id": "dc040c31-0652-43a9-bd22-b9df4da5ef6a",
   "metadata": {},
   "outputs": [],
   "source": [
    "%load_ext autoreload\n",
    "%autoreload reload 2"
   ]
  },
  {
   "cell_type": "code",
   "execution_count": 3,
   "id": "bed5a976",
   "metadata": {},
   "outputs": [
    {
     "name": "stderr",
     "output_type": "stream",
     "text": [
      "WARNING: Token(s) {ELSE,WHILE,RESCALE,CTXT,IF,ID,ASSIGN,MODSW,BOOTSTRAP,PTXT} defined, but not used\n",
      "WARNING: There are 10 unused tokens\n",
      "WARNING: Symbol 'expr' is unreachable\n",
      "WARNING: Symbol 'term' is unreachable\n",
      "WARNING: Symbol 'factor' is unreachable\n"
     ]
    },
    {
     "ename": "YaccError",
     "evalue": "Unable to build grammar.\nPrecedence rule 'nonassoc' defined for unknown symbol 'LESSTHAN'\nPrecedence rule 'nonassoc' defined for unknown symbol 'GREATERTHAN'\n",
     "output_type": "error",
     "traceback": [
      "\u001b[0;31m---------------------------------------------------------------------------\u001b[0m",
      "\u001b[0;31mYaccError\u001b[0m                                 Traceback (most recent call last)",
      "Input \u001b[0;32mIn [3]\u001b[0m, in \u001b[0;36m<cell line: 2>\u001b[0;34m()\u001b[0m\n\u001b[1;32m      1\u001b[0m \u001b[38;5;28;01mfrom\u001b[39;00m \u001b[38;5;21;01msly\u001b[39;00m \u001b[38;5;28;01mimport\u001b[39;00m Lexer\n\u001b[0;32m----> 2\u001b[0m \u001b[38;5;28;01mfrom\u001b[39;00m \u001b[38;5;21;01mmyparser\u001b[39;00m \u001b[38;5;28;01mimport\u001b[39;00m MyParser\n\u001b[1;32m      3\u001b[0m \u001b[38;5;28;01mfrom\u001b[39;00m \u001b[38;5;21;01mmylexer\u001b[39;00m \u001b[38;5;28;01mimport\u001b[39;00m MyLexer\n",
      "File \u001b[0;32m~/Work/PyFE/myparser.py:16\u001b[0m, in \u001b[0;36m<module>\u001b[0;34m\u001b[0m\n\u001b[1;32m     12\u001b[0m         \u001b[38;5;28mself\u001b[39m\u001b[38;5;241m.\u001b[39mop \u001b[38;5;241m=\u001b[39m op\n\u001b[1;32m     13\u001b[0m         \u001b[38;5;28mself\u001b[39m\u001b[38;5;241m.\u001b[39moperand \u001b[38;5;241m=\u001b[39m operand\n\u001b[0;32m---> 16\u001b[0m \u001b[38;5;28;01mclass\u001b[39;00m \u001b[38;5;21;01mMyParser\u001b[39;00m(Parser):\n\u001b[1;32m     17\u001b[0m     \u001b[38;5;66;03m# Get the token list from the lexer (required)\u001b[39;00m\n\u001b[1;32m     18\u001b[0m     \u001b[38;5;66;03m#\u001b[39;00m\n\u001b[1;32m     19\u001b[0m     \u001b[38;5;66;03m# \"pure Python only\" rules simply copies Python's rules.\u001b[39;00m\n\u001b[1;32m     20\u001b[0m     \u001b[38;5;66;03m#\u001b[39;00m\n\u001b[1;32m     21\u001b[0m     tokens \u001b[38;5;241m=\u001b[39m MyLexer\u001b[38;5;241m.\u001b[39mtokens\n\u001b[1;32m     22\u001b[0m     debugfile \u001b[38;5;241m=\u001b[39m \u001b[38;5;124m\"\u001b[39m\u001b[38;5;124mparser.out\u001b[39m\u001b[38;5;124m\"\u001b[39m\n",
      "File \u001b[0;32m~/anaconda3/envs/fhe/lib/python3.10/site-packages/sly/yacc.py:1774\u001b[0m, in \u001b[0;36mParserMeta.__new__\u001b[0;34m(meta, clsname, bases, attributes)\u001b[0m\n\u001b[1;32m   1772\u001b[0m \u001b[38;5;28;01mdel\u001b[39;00m attributes[\u001b[38;5;124m'\u001b[39m\u001b[38;5;124m_\u001b[39m\u001b[38;5;124m'\u001b[39m]\n\u001b[1;32m   1773\u001b[0m \u001b[38;5;28mcls\u001b[39m \u001b[38;5;241m=\u001b[39m \u001b[38;5;28msuper\u001b[39m()\u001b[38;5;241m.\u001b[39m\u001b[38;5;21m__new__\u001b[39m(meta, clsname, bases, attributes)\n\u001b[0;32m-> 1774\u001b[0m \u001b[38;5;28;43mcls\u001b[39;49m\u001b[38;5;241;43m.\u001b[39;49m\u001b[43m_build\u001b[49m\u001b[43m(\u001b[49m\u001b[38;5;28;43mlist\u001b[39;49m\u001b[43m(\u001b[49m\u001b[43mattributes\u001b[49m\u001b[38;5;241;43m.\u001b[39;49m\u001b[43mitems\u001b[49m\u001b[43m(\u001b[49m\u001b[43m)\u001b[49m\u001b[43m)\u001b[49m\u001b[43m)\u001b[49m\n\u001b[1;32m   1775\u001b[0m \u001b[38;5;28;01mreturn\u001b[39;00m \u001b[38;5;28mcls\u001b[39m\n",
      "File \u001b[0;32m~/anaconda3/envs/fhe/lib/python3.10/site-packages/sly/yacc.py:1968\u001b[0m, in \u001b[0;36mParser._build\u001b[0;34m(cls, definitions)\u001b[0m\n\u001b[1;32m   1965\u001b[0m     \u001b[38;5;28;01mraise\u001b[39;00m YaccError(\u001b[38;5;124m'\u001b[39m\u001b[38;5;124mInvalid parser specification\u001b[39m\u001b[38;5;124m'\u001b[39m)\n\u001b[1;32m   1967\u001b[0m \u001b[38;5;66;03m# Build the underlying grammar object\u001b[39;00m\n\u001b[0;32m-> 1968\u001b[0m \u001b[38;5;28;43mcls\u001b[39;49m\u001b[38;5;241;43m.\u001b[39;49m\u001b[43m__build_grammar\u001b[49m\u001b[43m(\u001b[49m\u001b[43mrules\u001b[49m\u001b[43m)\u001b[49m\n\u001b[1;32m   1970\u001b[0m \u001b[38;5;66;03m# Build the LR tables\u001b[39;00m\n\u001b[1;32m   1971\u001b[0m \u001b[38;5;28;01mif\u001b[39;00m \u001b[38;5;129;01mnot\u001b[39;00m \u001b[38;5;28mcls\u001b[39m\u001b[38;5;241m.\u001b[39m__build_lrtables():\n",
      "File \u001b[0;32m~/anaconda3/envs/fhe/lib/python3.10/site-packages/sly/yacc.py:1914\u001b[0m, in \u001b[0;36mParser.__build_grammar\u001b[0;34m(cls, rules)\u001b[0m\n\u001b[1;32m   1912\u001b[0m \u001b[38;5;28mcls\u001b[39m\u001b[38;5;241m.\u001b[39m_grammar \u001b[38;5;241m=\u001b[39m grammar\n\u001b[1;32m   1913\u001b[0m \u001b[38;5;28;01mif\u001b[39;00m errors:\n\u001b[0;32m-> 1914\u001b[0m     \u001b[38;5;28;01mraise\u001b[39;00m YaccError(\u001b[38;5;124m'\u001b[39m\u001b[38;5;124mUnable to build grammar.\u001b[39m\u001b[38;5;130;01m\\n\u001b[39;00m\u001b[38;5;124m'\u001b[39m\u001b[38;5;241m+\u001b[39merrors)\n",
      "\u001b[0;31mYaccError\u001b[0m: Unable to build grammar.\nPrecedence rule 'nonassoc' defined for unknown symbol 'LESSTHAN'\nPrecedence rule 'nonassoc' defined for unknown symbol 'GREATERTHAN'\n"
     ]
    }
   ],
   "source": [
    "from sly import Lexer\n",
    "from myparser import MyParser\n",
    "from mylexer import MyLexer"
   ]
  },
  {
   "cell_type": "markdown",
   "id": "f5309163",
   "metadata": {},
   "source": [
    "https://sly.readthedocs.io/en/latest/sly.html#writing-a-lexer"
   ]
  },
  {
   "cell_type": "code",
   "execution_count": 3,
   "id": "732d03f7",
   "metadata": {},
   "outputs": [
    {
     "name": "stdout",
     "output_type": "stream",
     "text": [
      "type='ID', value='x'\n",
      "type='ASSIGN', value='='\n",
      "type='NUMBER', value=3\n",
      "type='PLUS', value='+'\n",
      "type='NUMBER', value=42\n",
      "type='TIMES', value='*'\n",
      "type='LPAREN', value='('\n",
      "type='ID', value='s'\n",
      "type='MINUS', value='-'\n",
      "type='ID', value='t'\n",
      "type='RPAREN', value=')'\n"
     ]
    }
   ],
   "source": [
    "if __name__ == '__main__':\n",
    "    data = '''x = 3 + 42\n",
    "                * (s    # This is a comment\n",
    "                    - t)'''\n",
    "    lexer = MyLexer()\n",
    "    for tok in lexer.tokenize(data):\n",
    "        print('type=%r, value=%r' % (tok.type, tok.value))"
   ]
  },
  {
   "cell_type": "markdown",
   "id": "20b22e9a-b5a0-4101-8e50-9297a83f6feb",
   "metadata": {},
   "source": [
    "## Parser"
   ]
  },
  {
   "cell_type": "markdown",
   "id": "c2182b95-dbb6-42eb-a4e9-adf96d56854b",
   "metadata": {},
   "source": [
    "rescale, mod_switch, bootstrap은 사용자가 기호로 표현하는 Op가 아니라  \n",
    "AST에 컴파일러가 '자동으로' 추가해야할 Op. \n",
    "\n",
    "\n",
    "\n",
    "```\n",
    "assignment :  ID EQUALS NUMBER\n",
    "           |  ID EQUALS expr\n",
    "\n",
    "expr       : expr PLUS expr\n",
    "           | expr MINUS expr\n",
    "           | expr TIMES expr\n",
    "           | expr DIVIDE expr\n",
    "           | LPAREN expr RPAREN\n",
    "           | NUMBER\n",
    "``` \n",
    "\n",
    "- EQUALS has Reduce/reduce conflicts -> to be solved\n"
   ]
  },
  {
   "cell_type": "code",
   "execution_count": 17,
   "id": "bda41302-a195-4b2d-8fb0-361b5e83b444",
   "metadata": {},
   "outputs": [],
   "source": [
    "lexer = MyLexer()\n",
    "parser = MyParser()"
   ]
  },
  {
   "cell_type": "code",
   "execution_count": 18,
   "id": "abd58bfb-1b14-4aec-8a37-496253950061",
   "metadata": {},
   "outputs": [
    {
     "name": "stdout",
     "output_type": "stream",
     "text": [
      "<myparser.BinOp object at 0x7f44a73750c0>\n"
     ]
    }
   ],
   "source": [
    "with open(\"./script.py\")as f:\n",
    "    data = f.readline()\n",
    "    result = parser.parse(lexer.tokenize(data))\n",
    "    \n",
    "print(result)"
   ]
  },
  {
   "cell_type": "code",
   "execution_count": null,
   "id": "731ab56a-bfad-4c40-8992-173b782bfce5",
   "metadata": {},
   "outputs": [],
   "source": []
  }
 ],
 "metadata": {
  "kernelspec": {
   "display_name": "Python 3 (ipykernel)",
   "language": "python",
   "name": "python3"
  },
  "language_info": {
   "codemirror_mode": {
    "name": "ipython",
    "version": 3
   },
   "file_extension": ".py",
   "mimetype": "text/x-python",
   "name": "python",
   "nbconvert_exporter": "python",
   "pygments_lexer": "ipython3",
   "version": "3.10.4"
  },
  "vscode": {
   "interpreter": {
    "hash": "5075a704c0d3e9d28fc016097ccb4606b3aa41f4550d939e934d30fcf66246ef"
   }
  }
 },
 "nbformat": 4,
 "nbformat_minor": 5
}
